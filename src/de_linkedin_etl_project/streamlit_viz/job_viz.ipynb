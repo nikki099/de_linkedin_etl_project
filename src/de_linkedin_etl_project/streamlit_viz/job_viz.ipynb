{
 "cells": [
  {
   "cell_type": "code",
   "execution_count": 37,
   "id": "06645f2f",
   "metadata": {},
   "outputs": [],
   "source": [
    "import pandas as pd\n",
    "import streamlit as st\n",
    "import snowflake.connector\n",
    "from dotenv import load_dotenv\n",
    "import os"
   ]
  },
  {
   "cell_type": "code",
   "execution_count": 38,
   "id": "9aeef990",
   "metadata": {},
   "outputs": [],
   "source": [
    "load_dotenv()\n",
    "rapidapi_key = os.getenv('RAPIDAPI_KEY')\n",
    "rapidapi_host = \"linkedin-job-search-api.p.rapidapi.com\"\n",
    "snowflake_password = os.getenv('SNOWFLAKE_PASSWORD')"
   ]
  },
  {
   "cell_type": "markdown",
   "id": "fcaf43f0",
   "metadata": {},
   "source": [
    "## Snowflake Connection"
   ]
  },
  {
   "cell_type": "code",
   "execution_count": 13,
   "id": "af4e7327",
   "metadata": {},
   "outputs": [
    {
     "name": "stdout",
     "output_type": "stream",
     "text": [
      "Connection to Snowflake established successfully.\n"
     ]
    }
   ],
   "source": [
    "# Connect to Snowflake\n",
    "#Establish a connection to Snowflake\n",
    "\n",
    "def connect_to_snowflake():\n",
    "    try:\n",
    "\n",
    "        conn = snowflake.connector.connect(\n",
    "            user=\"NIKKILW2025\",\n",
    "            password=snowflake_password,\n",
    "            account=\"gbszkwp-by30611\",\n",
    "            warehouse=\"SNOWFLAKE_LEARNING_WH\",\n",
    "            database=\"linkedin_db\",\n",
    "            schema=\"linkedin_raw\"\n",
    "        )\n",
    "        print(\"Connection to Snowflake established successfully.\")\n",
    "        return conn\n",
    "    except Exception as e:\n",
    "        print(f\"Error connecting to Snowflake: {e}\")\n",
    "        return None\n",
    "\n",
    "conn = connect_to_snowflake()"
   ]
  },
  {
   "cell_type": "code",
   "execution_count": null,
   "id": "b8790356",
   "metadata": {},
   "outputs": [
    {
     "name": "stderr",
     "output_type": "stream",
     "text": [
      "/tmp/ipykernel_15211/449854605.py:13: UserWarning: pandas only supports SQLAlchemy connectable (engine/connection) or database string URI or sqlite3 DBAPI2 connection. Other DBAPI2 objects are not tested. Please consider using SQLAlchemy.\n",
      "  df_job_total = pd.read_sql(query, conn)\n"
     ]
    },
    {
     "data": {
      "text/html": [
       "<div>\n",
       "<style scoped>\n",
       "    .dataframe tbody tr th:only-of-type {\n",
       "        vertical-align: middle;\n",
       "    }\n",
       "\n",
       "    .dataframe tbody tr th {\n",
       "        vertical-align: top;\n",
       "    }\n",
       "\n",
       "    .dataframe thead th {\n",
       "        text-align: right;\n",
       "    }\n",
       "</style>\n",
       "<table border=\"1\" class=\"dataframe\">\n",
       "  <thead>\n",
       "    <tr style=\"text-align: right;\">\n",
       "      <th></th>\n",
       "      <th>TITLE</th>\n",
       "      <th>TOTAL_JOBS</th>\n",
       "    </tr>\n",
       "  </thead>\n",
       "  <tbody>\n",
       "    <tr>\n",
       "      <th>0</th>\n",
       "      <td>Data Analyst</td>\n",
       "      <td>102</td>\n",
       "    </tr>\n",
       "    <tr>\n",
       "      <th>1</th>\n",
       "      <td>Data Engineer</td>\n",
       "      <td>153</td>\n",
       "    </tr>\n",
       "    <tr>\n",
       "      <th>2</th>\n",
       "      <td>Data Scientist</td>\n",
       "      <td>51</td>\n",
       "    </tr>\n",
       "  </tbody>\n",
       "</table>\n",
       "</div>"
      ],
      "text/plain": [
       "            TITLE  TOTAL_JOBS\n",
       "0    Data Analyst         102\n",
       "1   Data Engineer         153\n",
       "2  Data Scientist          51"
      ]
     },
     "execution_count": 15,
     "metadata": {},
     "output_type": "execute_result"
    }
   ],
   "source": [
    "def query_job_total(conn):\n",
    "    query = \"\"\"\n",
    "        SELECT JOB_CATEGORY as Title,\n",
    "        COUNT(DISTINCT ID) as Total_Jobs\n",
    "        FROM LINKEDIN_JOB_API_CLEANED_DATA\n",
    "        WHERE\n",
    "        lower(title) LIKE '%data engineer%'\n",
    "        or lower(title) LIKE '%data analyst%'\n",
    "        or lower(title) LIKE '%data scientist%'\n",
    "        GROUP BY JOB_CATEGORY\n",
    "        ORDER BY Title ASC\n",
    "    \"\"\"\n",
    "    df_job_total = pd.read_sql(query, conn)\n",
    "    return df_job_total\n",
    "\n",
    "df_job_total = query_job_total(conn)\n",
    "df_job_total\n"
   ]
  },
  {
   "cell_type": "code",
   "execution_count": null,
   "id": "e11d9c90",
   "metadata": {},
   "outputs": [
    {
     "data": {
      "text/plain": [
       "np.int64(102)"
      ]
     },
     "execution_count": 25,
     "metadata": {},
     "output_type": "execute_result"
    }
   ],
   "source": [
    "# def job_data_summary(df_job_total):\n",
    "#     \"\"\"\n",
    "#     3 Summary Numbers of Total Jobs by Title\n",
    "#     \"\"\"\n",
    "#     col1, col2, col3 = st.columns(3)\n",
    "\n",
    "#     col1.metric(label='Data Analyst', value=int(df_job_total.iloc[0,1]))\n",
    "#     col2.metric(label='Data Engineer', value=int(df_job_total.iloc[1,1]))\n",
    "#     col3.metric(label='Data Scientist', value=int(df_job_total.iloc[2,1]))\n"
   ]
  },
  {
   "cell_type": "code",
   "execution_count": 33,
   "id": "61c47960",
   "metadata": {},
   "outputs": [
    {
     "name": "stderr",
     "output_type": "stream",
     "text": [
      "/tmp/ipykernel_15211/4181880399.py:16: UserWarning: pandas only supports SQLAlchemy connectable (engine/connection) or database string URI or sqlite3 DBAPI2 connection. Other DBAPI2 objects are not tested. Please consider using SQLAlchemy.\n",
      "  df_daily_jobs = pd.read_sql(query, conn)\n"
     ]
    },
    {
     "data": {
      "text/html": [
       "<div>\n",
       "<style scoped>\n",
       "    .dataframe tbody tr th:only-of-type {\n",
       "        vertical-align: middle;\n",
       "    }\n",
       "\n",
       "    .dataframe tbody tr th {\n",
       "        vertical-align: top;\n",
       "    }\n",
       "\n",
       "    .dataframe thead th {\n",
       "        text-align: right;\n",
       "    }\n",
       "</style>\n",
       "<table border=\"1\" class=\"dataframe\">\n",
       "  <thead>\n",
       "    <tr style=\"text-align: right;\">\n",
       "      <th></th>\n",
       "      <th>DATE</th>\n",
       "      <th>TITLE</th>\n",
       "      <th>TOTAL_JOBS</th>\n",
       "    </tr>\n",
       "  </thead>\n",
       "  <tbody>\n",
       "    <tr>\n",
       "      <th>0</th>\n",
       "      <td>2025-04-21</td>\n",
       "      <td>Data Analyst</td>\n",
       "      <td>3</td>\n",
       "    </tr>\n",
       "    <tr>\n",
       "      <th>1</th>\n",
       "      <td>2025-04-22</td>\n",
       "      <td>Data Analyst</td>\n",
       "      <td>13</td>\n",
       "    </tr>\n",
       "    <tr>\n",
       "      <th>2</th>\n",
       "      <td>2025-04-23</td>\n",
       "      <td>Data Analyst</td>\n",
       "      <td>11</td>\n",
       "    </tr>\n",
       "    <tr>\n",
       "      <th>3</th>\n",
       "      <td>2025-04-24</td>\n",
       "      <td>Data Analyst</td>\n",
       "      <td>10</td>\n",
       "    </tr>\n",
       "    <tr>\n",
       "      <th>4</th>\n",
       "      <td>2025-04-25</td>\n",
       "      <td>Data Analyst</td>\n",
       "      <td>3</td>\n",
       "    </tr>\n",
       "  </tbody>\n",
       "</table>\n",
       "</div>"
      ],
      "text/plain": [
       "         DATE         TITLE  TOTAL_JOBS\n",
       "0  2025-04-21  Data Analyst           3\n",
       "1  2025-04-22  Data Analyst          13\n",
       "2  2025-04-23  Data Analyst          11\n",
       "3  2025-04-24  Data Analyst          10\n",
       "4  2025-04-25  Data Analyst           3"
      ]
     },
     "execution_count": 33,
     "metadata": {},
     "output_type": "execute_result"
    }
   ],
   "source": [
    "##Get Daily jobs trend by title\n",
    "def query_daily_job_data(conn):\n",
    "    query = \"\"\"\n",
    "        SELECT\n",
    "        DATE,\n",
    "        JOB_CATEGORY as Title,\n",
    "        SUM(TOTAL_JOBS) as Total_Jobs\n",
    "        FROM MART_TOTAL_JOBS_DAILY\n",
    "        WHERE\n",
    "        lower(title) LIKE '%data engineer%'\n",
    "        or lower(title) LIKE '%data analyst%'\n",
    "        or lower(title) LIKE '%data scientist%'\n",
    "        GROUP BY Title, DATE\n",
    "        ORDER BY Title, DATE ASC\n",
    "    \"\"\"\n",
    "    df_daily_jobs = pd.read_sql(query, conn)\n",
    "    return df_daily_jobs\n",
    "\n",
    "df_daily_jobs = query_daily_job_data(conn)\n",
    "df_daily_jobs.head()"
   ]
  },
  {
   "cell_type": "code",
   "execution_count": null,
   "id": "2566c49e",
   "metadata": {},
   "outputs": [
    {
     "ename": "ValueError",
     "evalue": "Mime type rendering requires nbformat>=4.2.0 but it is not installed",
     "output_type": "error",
     "traceback": [
      "\u001b[31m---------------------------------------------------------------------------\u001b[39m",
      "\u001b[31mValueError\u001b[39m                                Traceback (most recent call last)",
      "\u001b[36mCell\u001b[39m\u001b[36m \u001b[39m\u001b[32mIn[41]\u001b[39m\u001b[32m, line 12\u001b[39m\n\u001b[32m      4\u001b[39m     fig = px.line(df_daily_jobs,\n\u001b[32m      5\u001b[39m                   x = \u001b[33m'\u001b[39m\u001b[33mDATE\u001b[39m\u001b[33m'\u001b[39m,\n\u001b[32m      6\u001b[39m                   y = \u001b[33m'\u001b[39m\u001b[33mTOTAL_JOBS\u001b[39m\u001b[33m'\u001b[39m,\n\u001b[32m      7\u001b[39m                   color = \u001b[33m'\u001b[39m\u001b[33mTITLE\u001b[39m\u001b[33m'\u001b[39m,\n\u001b[32m      8\u001b[39m                   title = \u001b[33m'\u001b[39m\u001b[33mData Job Daily Trend\u001b[39m\u001b[33m'\u001b[39m\n\u001b[32m      9\u001b[39m                   )\n\u001b[32m     10\u001b[39m     \u001b[38;5;28mprint\u001b[39m(fig.show())\n\u001b[32m---> \u001b[39m\u001b[32m12\u001b[39m \u001b[43mviz_daily_job_data\u001b[49m\u001b[43m(\u001b[49m\u001b[43mdf_daily_jobs\u001b[49m\u001b[43m)\u001b[49m\n",
      "\u001b[36mCell\u001b[39m\u001b[36m \u001b[39m\u001b[32mIn[41]\u001b[39m\u001b[32m, line 10\u001b[39m, in \u001b[36mviz_daily_job_data\u001b[39m\u001b[34m(df_daily_jobs)\u001b[39m\n\u001b[32m      3\u001b[39m \u001b[38;5;28;01mdef\u001b[39;00m\u001b[38;5;250m \u001b[39m\u001b[34mviz_daily_job_data\u001b[39m(df_daily_jobs):\n\u001b[32m      4\u001b[39m     fig = px.line(df_daily_jobs,\n\u001b[32m      5\u001b[39m                   x = \u001b[33m'\u001b[39m\u001b[33mDATE\u001b[39m\u001b[33m'\u001b[39m,\n\u001b[32m      6\u001b[39m                   y = \u001b[33m'\u001b[39m\u001b[33mTOTAL_JOBS\u001b[39m\u001b[33m'\u001b[39m,\n\u001b[32m      7\u001b[39m                   color = \u001b[33m'\u001b[39m\u001b[33mTITLE\u001b[39m\u001b[33m'\u001b[39m,\n\u001b[32m      8\u001b[39m                   title = \u001b[33m'\u001b[39m\u001b[33mData Job Daily Trend\u001b[39m\u001b[33m'\u001b[39m\n\u001b[32m      9\u001b[39m                   )\n\u001b[32m---> \u001b[39m\u001b[32m10\u001b[39m     \u001b[38;5;28mprint\u001b[39m(\u001b[43mfig\u001b[49m\u001b[43m.\u001b[49m\u001b[43mshow\u001b[49m\u001b[43m(\u001b[49m\u001b[43m)\u001b[49m)\n",
      "\u001b[36mFile \u001b[39m\u001b[32m~/code/nikki099/de_linkedin_etl_project/.venv/lib/python3.12/site-packages/plotly/basedatatypes.py:3414\u001b[39m, in \u001b[36mBaseFigure.show\u001b[39m\u001b[34m(self, *args, **kwargs)\u001b[39m\n\u001b[32m   3381\u001b[39m \u001b[38;5;250m\u001b[39m\u001b[33;03m\"\"\"\u001b[39;00m\n\u001b[32m   3382\u001b[39m \u001b[33;03mShow a figure using either the default renderer(s) or the renderer(s)\u001b[39;00m\n\u001b[32m   3383\u001b[39m \u001b[33;03mspecified by the renderer argument\u001b[39;00m\n\u001b[32m   (...)\u001b[39m\u001b[32m   3410\u001b[39m \u001b[33;03mNone\u001b[39;00m\n\u001b[32m   3411\u001b[39m \u001b[33;03m\"\"\"\u001b[39;00m\n\u001b[32m   3412\u001b[39m \u001b[38;5;28;01mimport\u001b[39;00m\u001b[38;5;250m \u001b[39m\u001b[34;01mplotly\u001b[39;00m\u001b[34;01m.\u001b[39;00m\u001b[34;01mio\u001b[39;00m\u001b[38;5;250m \u001b[39m\u001b[38;5;28;01mas\u001b[39;00m\u001b[38;5;250m \u001b[39m\u001b[34;01mpio\u001b[39;00m\n\u001b[32m-> \u001b[39m\u001b[32m3414\u001b[39m \u001b[38;5;28;01mreturn\u001b[39;00m \u001b[43mpio\u001b[49m\u001b[43m.\u001b[49m\u001b[43mshow\u001b[49m\u001b[43m(\u001b[49m\u001b[38;5;28;43mself\u001b[39;49m\u001b[43m,\u001b[49m\u001b[43m \u001b[49m\u001b[43m*\u001b[49m\u001b[43margs\u001b[49m\u001b[43m,\u001b[49m\u001b[43m \u001b[49m\u001b[43m*\u001b[49m\u001b[43m*\u001b[49m\u001b[43mkwargs\u001b[49m\u001b[43m)\u001b[49m\n",
      "\u001b[36mFile \u001b[39m\u001b[32m~/code/nikki099/de_linkedin_etl_project/.venv/lib/python3.12/site-packages/plotly/io/_renderers.py:425\u001b[39m, in \u001b[36mshow\u001b[39m\u001b[34m(fig, renderer, validate, **kwargs)\u001b[39m\n\u001b[32m    420\u001b[39m     \u001b[38;5;28;01mraise\u001b[39;00m \u001b[38;5;167;01mValueError\u001b[39;00m(\n\u001b[32m    421\u001b[39m         \u001b[33m\"\u001b[39m\u001b[33mMime type rendering requires ipython but it is not installed\u001b[39m\u001b[33m\"\u001b[39m\n\u001b[32m    422\u001b[39m     )\n\u001b[32m    424\u001b[39m \u001b[38;5;28;01mif\u001b[39;00m \u001b[38;5;129;01mnot\u001b[39;00m nbformat \u001b[38;5;129;01mor\u001b[39;00m Version(nbformat.__version__) < Version(\u001b[33m\"\u001b[39m\u001b[33m4.2.0\u001b[39m\u001b[33m\"\u001b[39m):\n\u001b[32m--> \u001b[39m\u001b[32m425\u001b[39m     \u001b[38;5;28;01mraise\u001b[39;00m \u001b[38;5;167;01mValueError\u001b[39;00m(\n\u001b[32m    426\u001b[39m         \u001b[33m\"\u001b[39m\u001b[33mMime type rendering requires nbformat>=4.2.0 but it is not installed\u001b[39m\u001b[33m\"\u001b[39m\n\u001b[32m    427\u001b[39m     )\n\u001b[32m    429\u001b[39m display_jupyter_version_warnings()\n\u001b[32m    431\u001b[39m ipython_display.display(bundle, raw=\u001b[38;5;28;01mTrue\u001b[39;00m)\n",
      "\u001b[31mValueError\u001b[39m: Mime type rendering requires nbformat>=4.2.0 but it is not installed"
     ]
    }
   ],
   "source": [
    "import streamlit as st\n",
    "import plotly_express as px\n",
    "\n",
    "def viz_daily_job_data(df_daily_jobs):\n",
    "    fig = px.line(df_daily_jobs, x='DATE', y='TOTAL_JOBS', color='TITLE',\n",
    "                  title='Data Job Daily Trend')\n",
    "    st.plotly_chart(fig)\n",
    "\n",
    "viz_daily_job_data(df_daily_jobs)"
   ]
  },
  {
   "cell_type": "code",
   "execution_count": 40,
   "id": "34755713",
   "metadata": {},
   "outputs": [
    {
     "name": "stdout",
     "output_type": "stream",
     "text": [
      "/home/nxie/code/nikki099/de_linkedin_etl_project/.venv/bin/python\n",
      "5.10.4\n"
     ]
    }
   ],
   "source": [
    "import sys\n",
    "print(sys.executable)\n",
    "import nbformat\n",
    "print(nbformat.__version__)"
   ]
  },
  {
   "cell_type": "code",
   "execution_count": null,
   "metadata": {},
   "outputs": [],
   "source": []
  },
  {
   "cell_type": "code",
   "execution_count": null,
   "id": "80fa5389",
   "metadata": {},
   "outputs": [],
   "source": []
  },
  {
   "cell_type": "markdown",
   "id": "f0e07ecc",
   "metadata": {},
   "source": [
    "## Section  - Dashboard Title\n"
   ]
  },
  {
   "cell_type": "code",
   "execution_count": 11,
   "id": "29662c3a",
   "metadata": {},
   "outputs": [
    {
     "name": "stderr",
     "output_type": "stream",
     "text": [
      "/tmp/ipykernel_15211/1653369068.py:11: UserWarning: pandas only supports SQLAlchemy connectable (engine/connection) or database string URI or sqlite3 DBAPI2 connection. Other DBAPI2 objects are not tested. Please consider using SQLAlchemy.\n",
      "  df_dates = pd.read_sql(query, conn)\n"
     ]
    },
    {
     "data": {
      "text/html": [
       "<div>\n",
       "<style scoped>\n",
       "    .dataframe tbody tr th:only-of-type {\n",
       "        vertical-align: middle;\n",
       "    }\n",
       "\n",
       "    .dataframe tbody tr th {\n",
       "        vertical-align: top;\n",
       "    }\n",
       "\n",
       "    .dataframe thead th {\n",
       "        text-align: right;\n",
       "    }\n",
       "</style>\n",
       "<table border=\"1\" class=\"dataframe\">\n",
       "  <thead>\n",
       "    <tr style=\"text-align: right;\">\n",
       "      <th></th>\n",
       "      <th>MIN_DATE</th>\n",
       "      <th>MAX_DATE</th>\n",
       "    </tr>\n",
       "  </thead>\n",
       "  <tbody>\n",
       "    <tr>\n",
       "      <th>0</th>\n",
       "      <td>2025-04-21</td>\n",
       "      <td>2025-05-06</td>\n",
       "    </tr>\n",
       "  </tbody>\n",
       "</table>\n",
       "</div>"
      ],
      "text/plain": [
       "     MIN_DATE    MAX_DATE\n",
       "0  2025-04-21  2025-05-06"
      ]
     },
     "execution_count": 11,
     "metadata": {},
     "output_type": "execute_result"
    }
   ],
   "source": [
    "#query the min and max dates for dashboard subheading\n",
    "\n",
    "def job_dates(conn):\n",
    "    query = \"\"\"\n",
    "        SELECT\n",
    "        MIN(DATE) AS min_date,\n",
    "        MAX(DATE) AS max_date\n",
    "        FROM mart_total_jobs_daily\n",
    "    \"\"\"\n",
    "\n",
    "    df_dates = pd.read_sql(query, conn)\n",
    "    conn.close()\n",
    "    return df_dates\n",
    "\n",
    "df_dates = job_dates(conn)\n",
    "df_dates"
   ]
  },
  {
   "cell_type": "code",
   "execution_count": 10,
   "id": "17da5493",
   "metadata": {},
   "outputs": [
    {
     "name": "stderr",
     "output_type": "stream",
     "text": [
      "2025-05-06 06:24:12.156 Thread 'MainThread': missing ScriptRunContext! This warning can be ignored when running in bare mode.\n",
      "2025-05-06 06:24:12.157 Thread 'MainThread': missing ScriptRunContext! This warning can be ignored when running in bare mode.\n"
     ]
    },
    {
     "data": {
      "text/plain": [
       "DeltaGenerator()"
      ]
     },
     "execution_count": 10,
     "metadata": {},
     "output_type": "execute_result"
    }
   ],
   "source": [
    "st.title(\"Australia Data Job Trend Dashboard\")\n",
    "# st.subheader(f\"data date range {df_dates['MIN_DATE']} - {df_dates['MAX_DATE']}\")"
   ]
  },
  {
   "cell_type": "code",
   "execution_count": null,
   "id": "5d1f593d",
   "metadata": {},
   "outputs": [],
   "source": []
  },
  {
   "cell_type": "code",
   "execution_count": null,
   "id": "6a7c9c32",
   "metadata": {},
   "outputs": [],
   "source": []
  },
  {
   "cell_type": "code",
   "execution_count": null,
   "metadata": {},
   "outputs": [],
   "source": []
  },
  {
   "cell_type": "code",
   "execution_count": null,
   "id": "662fb4bc",
   "metadata": {},
   "outputs": [],
   "source": []
  },
  {
   "cell_type": "code",
   "execution_count": null,
   "id": "ee0eaf9b",
   "metadata": {},
   "outputs": [],
   "source": []
  },
  {
   "cell_type": "code",
   "execution_count": null,
   "id": "93bc4ee4",
   "metadata": {},
   "outputs": [],
   "source": []
  },
  {
   "cell_type": "code",
   "execution_count": null,
   "id": "95d5fe4b",
   "metadata": {},
   "outputs": [],
   "source": []
  },
  {
   "cell_type": "code",
   "execution_count": null,
   "id": "392c35a2",
   "metadata": {},
   "outputs": [],
   "source": []
  },
  {
   "cell_type": "code",
   "execution_count": null,
   "id": "477c617e",
   "metadata": {},
   "outputs": [],
   "source": []
  },
  {
   "cell_type": "code",
   "execution_count": null,
   "id": "35f966da",
   "metadata": {},
   "outputs": [],
   "source": []
  },
  {
   "cell_type": "code",
   "execution_count": null,
   "metadata": {},
   "outputs": [],
   "source": []
  },
  {
   "cell_type": "code",
   "execution_count": null,
   "id": "b7134780",
   "metadata": {},
   "outputs": [],
   "source": []
  },
  {
   "cell_type": "code",
   "execution_count": null,
   "metadata": {},
   "outputs": [],
   "source": []
  },
  {
   "cell_type": "code",
   "execution_count": null,
   "id": "fa16000a",
   "metadata": {},
   "outputs": [],
   "source": []
  }
 ],
 "metadata": {
  "kernelspec": {
   "display_name": ".venv",
   "language": "python",
   "name": "python3"
  },
  "language_info": {
   "codemirror_mode": {
    "name": "ipython",
    "version": 3
   },
   "file_extension": ".py",
   "mimetype": "text/x-python",
   "name": "python",
   "nbconvert_exporter": "python",
   "pygments_lexer": "ipython3",
   "version": "3.12.8"
  }
 },
 "nbformat": 4,
 "nbformat_minor": 5
}
